{
 "cells": [
  {
   "cell_type": "markdown",
   "metadata": {},
   "source": [
    "The questions in this lab work up to be quite challenging. They are designed to test your new Python skills alongside your programming and puzzle solving skills! You may need to look up new syntax for Python that we've not yet learned. Don't be afraid to play and experiment!\n",
    "\n",
    "Note, you solved some of these puzzles in week 1. You might want to look at your R solution."
   ]
  },
  {
   "cell_type": "markdown",
   "metadata": {},
   "source": [
    "# Who knows where the time goes?\n",
    "\n",
    "Given a list of the years in which people were born, write a **list comprehension** to determine their age based on the current year. Ignore dates and months when calculating this.\n",
    "\n",
    "`years_of_birth = [1990, 1991, 1990, 1990, 1992, 1991, 1976, 1984, 1940]`\n"
   ]
  },
  {
   "cell_type": "markdown",
   "metadata": {},
   "source": [
    "**Answer**"
   ]
  },
  {
   "cell_type": "code",
   "execution_count": 6,
   "metadata": {},
   "outputs": [
    {
     "data": {
      "text/plain": [
       "[32, 31, 32, 32, 30, 31, 46, 38, 82]"
      ]
     },
     "execution_count": 6,
     "metadata": {},
     "output_type": "execute_result"
    }
   ],
   "source": [
    "years_of_birth = [1990, 1991, 1990, 1990, 1992, 1991, 1976, 1984, 1940]\n",
    "current_year = 2022\n",
    "\n",
    "[current_year - year for year in years_of_birth]"
   ]
  },
  {
   "cell_type": "markdown",
   "metadata": {},
   "source": [
    "# Back to front\n",
    "\n",
    "Write a function `is_palindrome(input_string)` to determine whether an input string is a **palindrome** (i.e. reads the same backwards as forwards, e.g. 'madam'). The function should return `True` if the string is a palindrome and `False` otherwise. As an extension, amend your code so that it strips out spaces from the string. \n",
    "\n",
    "[**Hint** - to do this efficiently, research methods to reverse a string in Python]\n"
   ]
  },
  {
   "cell_type": "markdown",
   "metadata": {},
   "source": [
    "**Answer**"
   ]
  },
  {
   "cell_type": "code",
   "execution_count": 36,
   "metadata": {},
   "outputs": [
    {
     "data": {
      "text/plain": [
       "True"
      ]
     },
     "execution_count": 36,
     "metadata": {},
     "output_type": "execute_result"
    }
   ],
   "source": [
    "def is_palindrome(input_string):\n",
    "    \n",
    "    clean_string = input_string.replace(\" \", \"\")\n",
    "    if clean_string == clean_string[::-1]:\n",
    "        return True \n",
    "    else:\n",
    "        return False \n",
    "        \n",
    "\n",
    "is_palindrome(\" mad a m \")"
   ]
  },
  {
   "cell_type": "markdown",
   "metadata": {},
   "source": [
    "# Multiples of 3 or 5\n",
    "\n",
    "If we list all the natural numbers below 10 that are multiples of 3 or 5, we get 3, 5, 6 and 9. The sum of these multiples is 23.\n",
    "\n",
    "Find the sum of all the multiples of 3 or 5 below 1000.\n",
    "\n",
    "From Project Euler (Problem 1)"
   ]
  },
  {
   "cell_type": "markdown",
   "metadata": {},
   "source": [
    "**Answer**"
   ]
  },
  {
   "cell_type": "code",
   "execution_count": 82,
   "metadata": {},
   "outputs": [
    {
     "data": {
      "text/plain": [
       "233168"
      ]
     },
     "execution_count": 82,
     "metadata": {},
     "output_type": "execute_result"
    }
   ],
   "source": [
    "numbers = range(1, 1000)\n",
    "\n",
    "sum_naturals = 0\n",
    "for number in numbers:\n",
    "  if number % 3 == 0 or number % 5 == 0:\n",
    "    sum_naturals += number\n",
    "    \n",
    "sum_naturals\n",
    "  "
   ]
  },
  {
   "cell_type": "markdown",
   "metadata": {},
   "source": [
    "# No need to repeat yourself...\n",
    "\n",
    "Write a function `remove_duplicates(input_list)` that takes in an input list of words and removes any duplicates it finds, returning the list without duplicates. For example with input:\n",
    "\n",
    "`input_list = [\"I\", \"am\", \"counting\", \"my\", \"calories\", \"yet\", \"I\", \"really\", \"want\", \"dessert\", \"I\", \"am\", \"still\", \"hungry\"]`<br>\n",
    "\n",
    "the function should output: \n",
    "\n",
    "`[\"I\", \"am\", \"counting\", \"my\", \"calories\", \"yet\", \"really\", \"want\", \"dessert\", \"still\", \"hungry\"]`\n",
    "\n",
    "[**Hint** research the `in` and `not` keywords in Python]."
   ]
  },
  {
   "cell_type": "markdown",
   "metadata": {},
   "source": [
    "**Answer**"
   ]
  },
  {
   "cell_type": "code",
   "execution_count": null,
   "metadata": {},
   "outputs": [],
   "source": [
    "def remove_duplicates(input_list):\n",
    "    \n",
    "    \n",
    "    \n",
    "    \n",
    "    \n",
    "    \n",
    "    "
   ]
  },
  {
   "cell_type": "code",
   "execution_count": null,
   "metadata": {},
   "outputs": [],
   "source": []
  },
  {
   "cell_type": "markdown",
   "metadata": {},
   "source": [
    "The questions in this lab work up to be quite challenging. They are designed to test your new Python skills alongside your programming and puzzle solving skills! You may need to look up new syntax for Python that we've not yet learned. Don't be afraid to play and experiment!\n",
    "\n",
    "Note, you solved some of these puzzles in week 1. You might want to look at your R solution.\n",
    "\n",
    "# Who knows where the time goes?\n",
    "\n",
    "Given a list of the years in which people were born, write a **list comprehension** to determine their age based on the current year. Ignore dates and months when calculating this.\n",
    "\n",
    "`years_of_birth = [1990, 1991, 1990, 1990, 1992, 1991, 1976, 1984, 1940]`\n",
    "\n",
    "# Back to front\n",
    "\n",
    "Write a function `is_palindrome(input_string)` to determine whether an input string is a **palindrome** (i.e. reads the same backwards as forwards, e.g. 'madam'). The function should return `True` if the string is a palindrome and `False` otherwise. As an extension, amend your code so that it strips out spaces from the string. \n",
    "\n",
    "[**Hint** - to do this efficiently, research methods to reverse a string in Python]\n",
    "\n",
    "# Multiples of 3 or 5\n",
    "\n",
    "If we list all the natural numbers below 10 that are multiples of 3 or 5, we get 3, 5, 6 and 9. The sum of these multiples is 23.\n",
    "\n",
    "Find the sum of all the multiples of 3 or 5 below 1000.\n",
    "\n",
    "From Project Euler (Problem 1)\n",
    "\n",
    "# No need to repeat yourself...\n",
    "\n",
    "Write a function `remove_duplicates(input_list)` that takes in an input list of words and removes any duplicates it finds, returning the list without duplicates. For example with input:\n",
    "\n",
    "`input_list = [\"I\", \"am\", \"counting\", \"my\", \"calories\", \"yet\", \"I\", \"really\", \"want\", \"dessert\", \"I\", \"am\", \"still\", \"hungry\"]`<br>\n",
    "\n",
    "the function should output: \n",
    "\n",
    "`[\"I\", \"am\", \"counting\", \"my\", \"calories\", \"yet\", \"really\", \"want\", \"dessert\", \"still\", \"hungry\"]`\n",
    "\n",
    "[**Hint** research the `in` and `not` keywords in Python]."
   ]
  },
  {
   "cell_type": "markdown",
   "metadata": {},
   "source": [
    "# List overlap\n",
    "\n",
    "Write a function `list_overlap(list_1, list_2)` that returns the **overlap** between two input lists `list_1` and `list_2` of numbers (i.e. the elements present in both lists).  The input lists need not be the same size. For example, for the following inputs:\n",
    "\n",
    "`list_1 = [1, 4, 5, 6, 6, 5, 10, 11, 12]`<br>\n",
    "`list_2 = [3, 2, 6, 10]`\n",
    "\n",
    "the function should output `[6, 10]` (or `[10, 6]`; order isn't important). \n",
    "\n",
    "# Even Fibonacci numbers\n",
    "\n",
    "Each new term in a **Fibonacci sequence** is generated by adding the previous two terms. So starting with 1 and 2, the first 10 terms will be:\n",
    "\n",
    "1, 2, 3, 5, 8, 13, 21, 34, 55, 89, ...\n",
    "\n",
    "By considering the terms in this Fibonacci sequence whose values do not exceed four million, find the sum of the even-valued terms.\n",
    "\n",
    "[**Hint** - research `while` loops]\n",
    "\n",
    "From Project Euler (Problem 2)\n",
    "\n",
    "# List to dictionary\n",
    "\n",
    "Write a function that accepts a list of strings and returns a dictionary where the keys are the words from the list and the values are the number of times that word appears in the list.\n",
    "\n",
    "# Correct the code\n",
    "\n",
    "You are repeatedly sent a message, but there are errors in the message each time it is sent. Write code to determine which character occurs most frequently at each position. For example, suppose you had recorded the following messages:\n",
    "\n",
    "eedadn\n",
    "drvtee\n",
    "eandsr\n",
    "raavrd\n",
    "atevrs\n",
    "tsrnev\n",
    "sdttsa\n",
    "rasrtv\n",
    "nssdts\n",
    "ntnada\n",
    "svetve\n",
    "tesnvt\n",
    "vntsnd\n",
    "vrdear\n",
    "dvrsen\n",
    "enarar\n",
    "\n",
    "The most common character in the first column is 'e'; in the second, 'a'; in the third, 's'; and so on. Combining these characters returns the error-corrected message 'easter'.\n",
    "\n",
    "Open the file `puzzle3input.txt` and find the error corrected message.\n",
    "\n",
    "From Advent of Code (2016, day 6)\n",
    "\n",
    "# More?!\n",
    "\n",
    "If you finish these questions and you want more practice, have a look at:\n",
    "\n",
    "* https://projecteuler.net/about\n",
    "* https://adventofcode.com/"
   ]
  }
 ],
 "metadata": {
  "jupytext": {
   "cell_metadata_filter": "tags,-all",
   "main_language": "R",
   "notebook_metadata_filter": "-all"
  },
  "kernelspec": {
   "display_name": "Python 3 (ipykernel)",
   "language": "python",
   "name": "python3"
  },
  "language_info": {
   "codemirror_mode": {
    "name": "ipython",
    "version": 3
   },
   "file_extension": ".py",
   "mimetype": "text/x-python",
   "name": "python",
   "nbconvert_exporter": "python",
   "pygments_lexer": "ipython3",
   "version": "3.9.7"
  }
 },
 "nbformat": 4,
 "nbformat_minor": 2
}
