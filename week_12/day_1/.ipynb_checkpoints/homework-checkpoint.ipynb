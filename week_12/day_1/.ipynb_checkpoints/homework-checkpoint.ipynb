{
 "cells": [
  {
   "cell_type": "markdown",
   "id": "5da0829f",
   "metadata": {},
   "source": [
    "# Homework\n",
    "\n",
    "This homework should consolidate everything you learnt in class today.\n",
    "\n"
   ]
  },
  {
   "cell_type": "markdown",
   "id": "c29b4085",
   "metadata": {},
   "source": [
    "<br> \n",
    "\n",
    "## Question 1\n",
    "\n",
    "Create a list with the following data, and assign it to a variable named shopping:\n",
    "'spam' 'ham' 'eggs' 'ham'\n",
    "\n",
    "Then do the following: \n",
    "\n",
    "1. Extract the second element of the list.\n",
    "\n",
    "2. Extract the first to third (inclusive) element of the list.\n",
    "\n",
    "3. Extract only the last element of the list."
   ]
  },
  {
   "cell_type": "code",
   "execution_count": 25,
   "id": "5f1c6dc7",
   "metadata": {},
   "outputs": [],
   "source": [
    "## Ans 1\n",
    "\n",
    "shopping = ['spam', 'ham', 'eggs', 'ham']"
   ]
  },
  {
   "cell_type": "code",
   "execution_count": 26,
   "id": "5eab42bb",
   "metadata": {},
   "outputs": [
    {
     "data": {
      "text/plain": [
       "'ham'"
      ]
     },
     "execution_count": 26,
     "metadata": {},
     "output_type": "execute_result"
    }
   ],
   "source": [
    "# 1. Extract the second element of the list.\n",
    "shopping[1]"
   ]
  },
  {
   "cell_type": "code",
   "execution_count": 27,
   "id": "0eac9a0c",
   "metadata": {},
   "outputs": [
    {
     "data": {
      "text/plain": [
       "['spam', 'ham', 'eggs']"
      ]
     },
     "execution_count": 27,
     "metadata": {},
     "output_type": "execute_result"
    }
   ],
   "source": [
    "# 2. Extract the first to third (inclusive) element of the list.\n",
    "shopping[:3]"
   ]
  },
  {
   "cell_type": "code",
   "execution_count": 28,
   "id": "9ac672de",
   "metadata": {},
   "outputs": [
    {
     "data": {
      "text/plain": [
       "'ham'"
      ]
     },
     "execution_count": 28,
     "metadata": {},
     "output_type": "execute_result"
    }
   ],
   "source": [
    "# 3. Extract only the last element of the list.\n",
    "shopping[-1]"
   ]
  },
  {
   "cell_type": "markdown",
   "id": "83d18532",
   "metadata": {},
   "source": [
    "<br>\n",
    "\n",
    "## Question 2\n",
    "\n",
    "Set up a list with the following elements:\n",
    "\n",
    "stops = [\"Croy\", \"Cumbernauld\", \"Falkirk High\", \n",
    "         \"Linlithgow\", \"Livingston\", \"Haymarket\"]\n",
    "\n",
    "Perform the following:\n",
    "\n",
    "1. Append Edinburgh Waverley to the end of the list\n",
    "1. Add \"Queen Street\" to the start of the list\n",
    "2. Find out what index \"Croy\" is at in the list\n",
    "3. Add \"Polmont\" at the appropriate point (between \"Falkirk High\" and \"Linlithgow\")\n",
    "4. Remove \"Haymarket\" from the list of stops\n",
    "5. Remove all items from stops\n",
    "\n",
    "Hint: Some of these methods will change the original object stops. If you make any unwanted changes and want to go back to the original object you can re-run the code chunks where we created the object stops and then appended \"Edinburgh Waverley\"."
   ]
  },
  {
   "cell_type": "code",
   "execution_count": 29,
   "id": "f62ea653",
   "metadata": {},
   "outputs": [],
   "source": [
    "## Ans 2\n",
    "\n",
    "stops = [\"Croy\", \"Cumbernauld\", \"Falkirk High\", \n",
    "         \"Linlithgow\", \"Livingston\", \"Haymarket\"]\n"
   ]
  },
  {
   "cell_type": "code",
   "execution_count": 30,
   "id": "b01c9a24",
   "metadata": {},
   "outputs": [
    {
     "data": {
      "text/plain": [
       "['Croy',\n",
       " 'Cumbernauld',\n",
       " 'Falkirk High',\n",
       " 'Linlithgow',\n",
       " 'Livingston',\n",
       " 'Haymarket',\n",
       " ' Edinburgh Waverley']"
      ]
     },
     "execution_count": 30,
     "metadata": {},
     "output_type": "execute_result"
    }
   ],
   "source": [
    "# 1. Append Edinburgh Waverley to the end of the list\n",
    "\n",
    "stops.append(\" Edinburgh Waverley\")\n",
    "\n",
    "stops"
   ]
  },
  {
   "cell_type": "code",
   "execution_count": 31,
   "id": "a69d7d03",
   "metadata": {},
   "outputs": [
    {
     "data": {
      "text/plain": [
       "['Queen Street',\n",
       " 'Croy',\n",
       " 'Cumbernauld',\n",
       " 'Falkirk High',\n",
       " 'Linlithgow',\n",
       " 'Livingston',\n",
       " 'Haymarket',\n",
       " ' Edinburgh Waverley']"
      ]
     },
     "execution_count": 31,
     "metadata": {},
     "output_type": "execute_result"
    }
   ],
   "source": [
    "# 2. Add \"Queen Street\" to the start of the list\n",
    "\n",
    "stops.insert(0, \"Queen Street\")\n",
    "\n",
    "stops"
   ]
  },
  {
   "cell_type": "code",
   "execution_count": 32,
   "id": "93048461",
   "metadata": {},
   "outputs": [
    {
     "data": {
      "text/plain": [
       "1"
      ]
     },
     "execution_count": 32,
     "metadata": {},
     "output_type": "execute_result"
    }
   ],
   "source": [
    "# 3. Find out what index \"Croy\" is at in the list\n",
    "stops.index(\"Croy\")"
   ]
  },
  {
   "cell_type": "code",
   "execution_count": 33,
   "id": "0ffe4b0b",
   "metadata": {},
   "outputs": [],
   "source": [
    "# 4. Add \"Polmont\" at the appropriate point (between \"Falkirk High\" and \"Linlithgow\")"
   ]
  },
  {
   "cell_type": "code",
   "execution_count": 34,
   "id": "fc946696",
   "metadata": {},
   "outputs": [
    {
     "data": {
      "text/plain": [
       "['Queen Street',\n",
       " 'Croy',\n",
       " 'Cumbernauld',\n",
       " 'Falkirk High',\n",
       " 'Polmont',\n",
       " 'Linlithgow',\n",
       " 'Livingston',\n",
       " 'Haymarket',\n",
       " ' Edinburgh Waverley']"
      ]
     },
     "execution_count": 34,
     "metadata": {},
     "output_type": "execute_result"
    }
   ],
   "source": [
    "stops.insert(4, \"Polmont\")\n",
    "\n",
    "stops"
   ]
  },
  {
   "cell_type": "code",
   "execution_count": 37,
   "id": "75923c9c",
   "metadata": {},
   "outputs": [
    {
     "data": {
      "text/plain": [
       "['Queen Street',\n",
       " 'Croy',\n",
       " 'Cumbernauld',\n",
       " 'Falkirk High',\n",
       " 'Polmont',\n",
       " 'Linlithgow',\n",
       " 'Livingston',\n",
       " ' Edinburgh Waverley']"
      ]
     },
     "execution_count": 37,
     "metadata": {},
     "output_type": "execute_result"
    }
   ],
   "source": [
    "# 5. Remove \"Haymarket\" from the list of stops\n",
    "\n",
    "stops.remove(\"Haymarket\")\n",
    "\n",
    "stops"
   ]
  },
  {
   "cell_type": "code",
   "execution_count": 38,
   "id": "32b55def",
   "metadata": {},
   "outputs": [
    {
     "data": {
      "text/plain": [
       "[]"
      ]
     },
     "execution_count": 38,
     "metadata": {},
     "output_type": "execute_result"
    }
   ],
   "source": [
    "# 6. Remove all items from stops\n",
    "\n",
    "stops.clear()\n",
    "\n",
    "stops"
   ]
  },
  {
   "cell_type": "markdown",
   "id": "486756a5",
   "metadata": {},
   "source": [
    "<br>\n",
    "\n",
    "## Question 3\n",
    "\n",
    "Set up the following dictionary:\n",
    "\n",
    "`person = {\"name\": \"Steph\", \"age\": 31, \"Instructor\" : True}`\n",
    "\n",
    "Do the following:\n",
    "\n",
    "1. Return the keys, values and items from this dictionary\n",
    "\n",
    "2. Take out only the name from it\n",
    "\n",
    "3. Add a new key:value pair, which adds the email \"steph@codeclan.com\" to the dictionary\n",
    "\n",
    "4. Delete the job description from the dictionary (*Hint: look up the `del` function*)\n"
   ]
  },
  {
   "cell_type": "code",
   "execution_count": 39,
   "id": "33514488",
   "metadata": {},
   "outputs": [],
   "source": [
    "## Ans 3\n",
    "person = {\"name\": \"Steph\", \"age\": 31, \"Instructor\" : True}"
   ]
  },
  {
   "cell_type": "code",
   "execution_count": 40,
   "id": "130471d3",
   "metadata": {},
   "outputs": [
    {
     "data": {
      "text/plain": [
       "dict_keys(['name', 'age', 'Instructor'])"
      ]
     },
     "execution_count": 40,
     "metadata": {},
     "output_type": "execute_result"
    }
   ],
   "source": [
    "# 1. Return the keys, values and items from this dictionary\n",
    "person.keys()"
   ]
  },
  {
   "cell_type": "code",
   "execution_count": 42,
   "id": "13aaaadf",
   "metadata": {},
   "outputs": [
    {
     "data": {
      "text/plain": [
       "dict_values(['Steph', 31, True])"
      ]
     },
     "execution_count": 42,
     "metadata": {},
     "output_type": "execute_result"
    }
   ],
   "source": [
    "person.values()"
   ]
  },
  {
   "cell_type": "code",
   "execution_count": 43,
   "id": "f4784a16",
   "metadata": {},
   "outputs": [
    {
     "data": {
      "text/plain": [
       "dict_items([('name', 'Steph'), ('age', 31), ('Instructor', True)])"
      ]
     },
     "execution_count": 43,
     "metadata": {},
     "output_type": "execute_result"
    }
   ],
   "source": [
    "person.items()"
   ]
  },
  {
   "cell_type": "code",
   "execution_count": 44,
   "id": "e4f08de1",
   "metadata": {},
   "outputs": [
    {
     "data": {
      "text/plain": [
       "{'age': 31, 'Instructor': True}"
      ]
     },
     "execution_count": 44,
     "metadata": {},
     "output_type": "execute_result"
    }
   ],
   "source": [
    "# 2. Take out only the name from it\n",
    "person.pop('name')\n",
    "\n",
    "person"
   ]
  },
  {
   "cell_type": "code",
   "execution_count": 45,
   "id": "bb632e97",
   "metadata": {},
   "outputs": [
    {
     "data": {
      "text/plain": [
       "{'age': 31, 'Instructor': True, 'email': 'steph@codeclan.com'}"
      ]
     },
     "execution_count": 45,
     "metadata": {},
     "output_type": "execute_result"
    }
   ],
   "source": [
    "# 3. Add a new key:value pair, which adds the email \"steph@codeclan.com\" to the dictionary\n",
    "person.update({\"email\": \"steph@codeclan.com\"})\n",
    "\n",
    "person"
   ]
  },
  {
   "cell_type": "code",
   "execution_count": 46,
   "id": "205bb1e2",
   "metadata": {},
   "outputs": [
    {
     "data": {
      "text/plain": [
       "{'age': 31, 'email': 'steph@codeclan.com'}"
      ]
     },
     "execution_count": 46,
     "metadata": {},
     "output_type": "execute_result"
    }
   ],
   "source": [
    "# 4. Delete the job description from the dictionary\n",
    "del person[\"Instructor\"]\n",
    "\n",
    "person"
   ]
  },
  {
   "cell_type": "markdown",
   "id": "a948f47c",
   "metadata": {},
   "source": [
    "<br>\n",
    "\n",
    "## Question 4\n",
    "\n",
    "For the following list of numbers: \n",
    "\n",
    "`numbers = [1, 6, 2, 2, 7, 1, 6, 13, 99, 7]`\n",
    "\n",
    "1. Print out a list of the even integers:\n",
    "\n",
    "2. Print the difference between the largest and smallest value:\n",
    "\n",
    "3. Print True if the list contains a 2 next to a 2 somewhere.\n",
    "\n",
    "4. Print the sum of the numbers, BUT ignore any section of numbers starting with a 6 and extending to the next 7. So [11, 6, 4, 99, 7, 11] would have sum of 22\n"
   ]
  },
  {
   "cell_type": "code",
   "execution_count": 1,
   "id": "93f33a88",
   "metadata": {},
   "outputs": [],
   "source": [
    "## Ans 4\n",
    "\n",
    "numbers = [1, 6, 2, 2, 7, 1, 6, 13, 99, 7]"
   ]
  },
  {
   "cell_type": "code",
   "execution_count": 2,
   "id": "8cd9ac04",
   "metadata": {},
   "outputs": [
    {
     "name": "stdout",
     "output_type": "stream",
     "text": [
      "[6, 2, 2, 6]\n"
     ]
    }
   ],
   "source": [
    "# 1. Print out a list of the even integers:\n",
    "even_integers = []\n",
    "\n",
    "for i in numbers:\n",
    "    if i % 2 == 0:\n",
    "        even_integers.append(i)\n",
    "    else:\n",
    "        even_integers\n",
    "\n",
    "print(even_integers)\n"
   ]
  },
  {
   "cell_type": "code",
   "execution_count": 5,
   "id": "19b9cf7c",
   "metadata": {},
   "outputs": [
    {
     "name": "stdout",
     "output_type": "stream",
     "text": [
      "[6, 2, 2, 6]\n"
     ]
    }
   ],
   "source": [
    "# Alternative way of implementing code above\n",
    "even_list = [i for i in numbers if i % 2 == 0]\n",
    "print(even_list)"
   ]
  },
  {
   "cell_type": "code",
   "execution_count": 7,
   "id": "c7131d21",
   "metadata": {},
   "outputs": [
    {
     "name": "stdout",
     "output_type": "stream",
     "text": [
      "98\n"
     ]
    }
   ],
   "source": [
    "# 2. Print the difference between the largest and smallest value:\n",
    "numbers.sort()\n",
    "diff_minmax = numbers[-1] - numbers[0]\n",
    "\n",
    "print(diff_minmax)"
   ]
  },
  {
   "cell_type": "code",
   "execution_count": 35,
   "id": "b335c0da",
   "metadata": {},
   "outputs": [
    {
     "name": "stdout",
     "output_type": "stream",
     "text": [
      "True\n"
     ]
    }
   ],
   "source": [
    "# 3. Print True if the list contains a 2 next to a 2 somewhere.\n",
    "numbers = [1, 6, 2, 2, 7, 1, 6, 13, 99, 7]\n",
    "\n",
    "for i in range(1, len(numbers)):\n",
    "    if numbers[i] == 2 and numbers[i] == numbers[i-1]:\n",
    "        print(True)"
   ]
  },
  {
   "cell_type": "code",
   "execution_count": 72,
   "id": "a1ce0a00",
   "metadata": {},
   "outputs": [
    {
     "name": "stdout",
     "output_type": "stream",
     "text": [
      "2\n"
     ]
    }
   ],
   "source": [
    "# 4. Print the sum of the numbers, BUT ignore any section of numbers starting with a 6 and extending to the next 7. \n",
    "# So [11, 6, 4, 99, 7, 11] would have sum of 22\n",
    "numbers = [1, 6, 2, 2, 7, 1, 6, 13, 99, 7]\n",
    "\n",
    "sum = 0\n",
    "flag = True\n",
    "\n",
    "for i in numbers:\n",
    "    #print(flag)\n",
    "    if flag == False:\n",
    "        if i == 7:\n",
    "            flag = True\n",
    "    elif i == 6:\n",
    "        flag = False\n",
    "    else:\n",
    "        sum += i\n",
    "        #print(sum)\n",
    "\n",
    "print(sum)"
   ]
  },
  {
   "cell_type": "markdown",
   "id": "757abad2",
   "metadata": {},
   "source": [
    "<br>\n",
    "\n",
    "## Question 5\n",
    "\n",
    "Write a conditional that takes in two inputs : \n",
    "\n",
    "* `python_is_fun = True`\n",
    "* `python_is_weird = True`\n",
    "\n",
    "We want to print \"Woo Python!\" if either `python_is_fun` is `true` OR `python_is_weird` is `true` OR both `python_is_fun` and `python_is_weird` are true. Otherwise, print `\"Python is not for me!\"`. Make sure you test all the combinations. "
   ]
  },
  {
   "cell_type": "code",
   "execution_count": 63,
   "id": "0308c52e",
   "metadata": {},
   "outputs": [
    {
     "name": "stdout",
     "output_type": "stream",
     "text": [
      "Woo Python!\n"
     ]
    }
   ],
   "source": [
    "## Ans 5\n",
    "\n",
    "python_is_fun = True\n",
    "python_is_weird = True\n",
    "\n",
    "\n",
    "if (python_is_fun == True or python_is_weird == True): \n",
    "    print(\"Woo Python!\")\n",
    "elif (python_is_fun == True and python_is_weird == True):\n",
    "    print(\"Woo Python!\")\n",
    "else:\n",
    "    print(\"Python is not for me!\")\n",
    "    "
   ]
  },
  {
   "cell_type": "code",
   "execution_count": null,
   "id": "d7adf7aa",
   "metadata": {},
   "outputs": [],
   "source": [
    "<br>\n",
    "\n",
    "## Question 6\n",
    "\n",
    "We have a list of chickens and the farmer would like to go through all the chickens, collecting the eggs and getting the total number of eggs collected.\n",
    "\n",
    "`chickens = [\n",
    "  { \"name\": \"Margaret\", \"age\": 2, \"eggs\": 0 },\n",
    "  { \"name\": \"Hetty\", \"age\": 1, \"eggs\": 2 },\n",
    "  { \"name\": \"Henrietta\", \"age\": 3, \"eggs\": 1 },\n",
    "  { \"name\": \"Audrey\", \"age\": 2, \"eggs\": 0 },\n",
    "  { \"name\": \"Mabel\", \"age\": 5, \"eggs\": 1 },\n",
    "]`\n",
    "\n",
    "\n",
    "To write this as a loop, we'd do something like this: \n",
    "\n",
    "`total_eggs = 0`\n",
    "\n",
    "`for chicken in chickens:\n",
    "    total_eggs += chicken[\"eggs\"]\n",
    "    chicken[\"eggs\"] = 0 # eggs have been collected`\n",
    "\n",
    "`print(f\"{total_eggs} eggs collected\")`\n",
    "\n",
    "Instead, we want to define a function which passes in a list, so that if we wanted to count eggs of a different list of chickens from another farm, we can use the same function, just pass in a different list.\n",
    "\n",
    "We also want to return the string at the end, instead of using `print`."
   ]
  },
  {
   "cell_type": "code",
   "execution_count": 100,
   "id": "decc643b",
   "metadata": {},
   "outputs": [
    {
     "data": {
      "text/plain": [
       "'4 eggs collected'"
      ]
     },
     "execution_count": 100,
     "metadata": {},
     "output_type": "execute_result"
    }
   ],
   "source": [
    "## Ans 5\n",
    "\n",
    "chickens = [\n",
    "  { \"name\": \"Margaret\", \"age\": 2, \"eggs\": 0 },\n",
    "  { \"name\": \"Hetty\", \"age\": 1, \"eggs\": 2 },\n",
    "  { \"name\": \"Henrietta\", \"age\": 3, \"eggs\": 1 },\n",
    "  { \"name\": \"Audrey\", \"age\": 2, \"eggs\": 0 },\n",
    "  { \"name\": \"Mabel\", \"age\": 5, \"eggs\": 1 },\n",
    "]\n",
    "\n",
    "\n",
    "def egg_count(chickens):\n",
    "    \n",
    "    total_eggs = 0\n",
    "    \n",
    "    for chicken in chickens:\n",
    "        total_eggs += chicken[\"eggs\"]\n",
    "    \n",
    "    return f\"{total_eggs} eggs collected\"\n",
    "\n",
    "\n",
    "egg_count(chickens)"
   ]
  },
  {
   "cell_type": "markdown",
   "id": "72fff884",
   "metadata": {},
   "source": [
    "<br>\n",
    "<hr>\n",
    "\n",
    "# Extensions\n",
    "\n",
    "\n",
    "## Question 1\n",
    "Set up the following collection: \n",
    "\n",
    "`\n",
    "united_kingdom = [\n",
    "  {\n",
    "    \"name\": \"Scotland\",\n",
    "    \"population\": 5295000,\n",
    "    \"capital\": \"Edinburgh\"\n",
    "  },\n",
    "  {\n",
    "    \"name\": \"Wales\",\n",
    "    \"population\": 3063000,\n",
    "    \"capital\": \"Swansea\"\n",
    "  },\n",
    "  {\n",
    "    \"name\": \"England\",\n",
    "    \"population\": 53010000,\n",
    "    \"capital\": \"London\"\n",
    "  }\n",
    "]`\n",
    "\n",
    "1. Change the capital of Wales from `\"Swansea\"` to `\"Cardiff\"`.\n",
    "\n",
    "2. Create a dictionary for Northern Ireland and add it to the `united_kingdom` list (The capital is Belfast, and the population is 1,811,000).\n",
    "\n",
    "3. Use a loop to print the names of all the countries in the UK.\n",
    "\n",
    "4. Use a loop to find the total population of the UK.\n"
   ]
  },
  {
   "cell_type": "code",
   "execution_count": 114,
   "id": "bcaf92ea",
   "metadata": {},
   "outputs": [
    {
     "data": {
      "text/plain": [
       "[{'name': 'Scotland', 'population': 5295000, 'capital': 'Edinburgh'},\n",
       " {'name': 'Wales', 'population': 3063000, 'capital': 'Cardiff'},\n",
       " {'name': 'England', 'population': 53010000, 'capital': 'London'}]"
      ]
     },
     "execution_count": 114,
     "metadata": {},
     "output_type": "execute_result"
    }
   ],
   "source": [
    "# Ans 1\n",
    "\n",
    "united_kingdom = [\n",
    "  {\n",
    "    \"name\": \"Scotland\",\n",
    "    \"population\": 5295000,\n",
    "    \"capital\": \"Edinburgh\"\n",
    "  },\n",
    "  {\n",
    "    \"name\": \"Wales\",\n",
    "    \"population\": 3063000,\n",
    "    \"capital\": \"Swansea\"\n",
    "  },\n",
    "  {\n",
    "    \"name\": \"England\",\n",
    "    \"population\": 53010000,\n",
    "    \"capital\": \"London\"\n",
    "  }\n",
    "]\n",
    "\n",
    "# 1. Change the capital of Wales from `\"Swansea\"` to `\"Cardiff\"`.\n",
    "\n",
    "united_kingdom[1][\"capital\"] = \"Cardiff\""
   ]
  },
  {
   "cell_type": "code",
   "execution_count": 117,
   "id": "b4d23ad5",
   "metadata": {},
   "outputs": [
    {
     "data": {
      "text/plain": [
       "[{'name': 'Scotland', 'population': 5295000, 'capital': 'Edinburgh'},\n",
       " {'name': 'Wales', 'population': 3063000, 'capital': 'Cardiff'},\n",
       " {'name': 'England', 'population': 53010000, 'capital': 'London'},\n",
       " {'name': 'Northern Ireland', 'population': 1811000, 'capital': 'Belfast'}]"
      ]
     },
     "execution_count": 117,
     "metadata": {},
     "output_type": "execute_result"
    }
   ],
   "source": [
    "# 2. Create a dictionary for Northern Ireland and add it to the `united_kingdom` list (The capital is Belfast, and the population is 1,811,000).\n",
    "\n",
    "united_kingdom.append({\"name\": \"Northern Ireland\", \"population\": 1811000, \"capital\": \"Belfast\"})\n",
    "\n",
    "united_kingdom"
   ]
  },
  {
   "cell_type": "code",
   "execution_count": 120,
   "id": "cfc0d68d",
   "metadata": {},
   "outputs": [
    {
     "name": "stdout",
     "output_type": "stream",
     "text": [
      "Scotland\n",
      "Wales\n",
      "England\n",
      "Northern Ireland\n"
     ]
    }
   ],
   "source": [
    "# 3. Use a loop to print the names of all the countries in the UK.\n",
    "\n",
    "for i in range(len(united_kingdom)):\n",
    "    \n",
    "    print(united_kingdom[i][\"name\"])\n",
    "    "
   ]
  },
  {
   "cell_type": "code",
   "execution_count": 123,
   "id": "b1cba280",
   "metadata": {},
   "outputs": [
    {
     "data": {
      "text/plain": [
       "63179000"
      ]
     },
     "execution_count": 123,
     "metadata": {},
     "output_type": "execute_result"
    }
   ],
   "source": [
    "# 4. Use a loop to find the total population of the UK.\n",
    "\n",
    "total_population = 0\n",
    "\n",
    "for i in range(len(united_kingdom)):\n",
    "    \n",
    "    total_population += united_kingdom[i][\"population\"]\n",
    "    \n",
    "total_population\n",
    "    "
   ]
  },
  {
   "cell_type": "markdown",
   "id": "d128fbff",
   "metadata": {},
   "source": [
    "<br>\n",
    "\n",
    "## Question 2\n",
    "\n",
    "Set up the following:\n",
    "\n",
    "`users = {\n",
    "  \"Jonathan\": {\n",
    "    \"twitter\": \"jonnyt\",\n",
    "    \"lottery_numbers\": [6, 12, 49, 33, 45, 20],\n",
    "    \"home_town\": \"Stirling\",\n",
    "    \"pets\": [\n",
    "    {\n",
    "      \"name\": \"fluffy\",\n",
    "      \"species\": \"cat\"\n",
    "    },\n",
    "    {\n",
    "      \"name\": \"fido\",\n",
    "      \"species\": \"dog\"\n",
    "    },\n",
    "    {\n",
    "      \"name\": \"spike\",\n",
    "      \"species\": \"dog\"\n",
    "    }\n",
    "  ]\n",
    "  },\n",
    "  \"Erik\": {\n",
    "    \"twitter\": \"eriksf\",\n",
    "    \"lottery_numbers\": [18, 34, 8, 11, 24],\n",
    "    \"home_town\": \"Linlithgow\",\n",
    "    \"pets\": [\n",
    "    {\n",
    "      \"name\": \"nemo\",\n",
    "      \"species\": \"fish\"\n",
    "    },\n",
    "    {\n",
    "      \"name\": \"kevin\",\n",
    "      \"species\": \"fish\"\n",
    "    },\n",
    "    {\n",
    "      \"name\": \"spike\",\n",
    "      \"species\": \"dog\"\n",
    "    },\n",
    "    {\n",
    "      \"name\": \"rupert\",\n",
    "      \"species\": \"parrot\"\n",
    "    }\n",
    "  ]\n",
    "  },\n",
    "  \"Avril\": {\n",
    "    \"twitter\": \"bridgpally\",\n",
    "    \"lottery_numbers\": [12, 14, 33, 38, 9, 25],\n",
    "    \"home_town\": \"Dunbar\",\n",
    "    \"pets\": [\n",
    "      {\n",
    "        \"name\": \"monty\",\n",
    "        \"species\": \"snake\"\n",
    "      }\n",
    "    ]\n",
    "  }\n",
    "}`\n",
    "\n",
    "1. Get Jonathan's Twitter handle (i.e. the string `\"jonnyt\"`)\n",
    "2. Get Erik's hometown\n",
    "3. Get the array of Erik's lottery numbers\n",
    "4. Get the species of Avril's pet Monty\n",
    "5. Get the smallest of Erik's lottery numbers\n",
    "6. Return an array of Avril's lottery numbers that are even\n",
    "7. Erik is one lottery number short! Add the number `7` to be included in his lottery numbers\n",
    "8. Change Erik's hometown to Edinburgh\n",
    "9. Add a pet dog to Erik called \"Fluffy\"\n",
    "10. Add another person to the users dictionary\n"
   ]
  },
  {
   "cell_type": "code",
   "execution_count": 170,
   "id": "05afb0ae",
   "metadata": {},
   "outputs": [],
   "source": [
    "## Ans 2\n",
    "\n",
    "users = {\n",
    "  \"Jonathan\": {\n",
    "    \"twitter\": \"jonnyt\",\n",
    "    \"lottery_numbers\": [6, 12, 49, 33, 45, 20],\n",
    "    \"home_town\": \"Stirling\",\n",
    "    \"pets\": [\n",
    "    {\n",
    "      \"name\": \"fluffy\",\n",
    "      \"species\": \"cat\"\n",
    "    },\n",
    "    {\n",
    "      \"name\": \"fido\",\n",
    "      \"species\": \"dog\"\n",
    "    },\n",
    "    {\n",
    "      \"name\": \"spike\",\n",
    "      \"species\": \"dog\"\n",
    "    }\n",
    "  ]\n",
    "  },\n",
    "  \"Erik\": {\n",
    "    \"twitter\": \"eriksf\",\n",
    "    \"lottery_numbers\": [18, 34, 8, 11, 24],\n",
    "    \"home_town\": \"Linlithgow\",\n",
    "    \"pets\": [\n",
    "    {\n",
    "      \"name\": \"nemo\",\n",
    "      \"species\": \"fish\"\n",
    "    },\n",
    "    {\n",
    "      \"name\": \"kevin\",\n",
    "      \"species\": \"fish\"\n",
    "    },\n",
    "    {\n",
    "      \"name\": \"spike\",\n",
    "      \"species\": \"dog\"\n",
    "    },\n",
    "    {\n",
    "      \"name\": \"rupert\",\n",
    "      \"species\": \"parrot\"\n",
    "    }\n",
    "  ]\n",
    "  },\n",
    "  \"Avril\": {\n",
    "    \"twitter\": \"bridgpally\",\n",
    "    \"lottery_numbers\": [12, 14, 33, 38, 9, 25],\n",
    "    \"home_town\": \"Dunbar\",\n",
    "    \"pets\": [\n",
    "      {\n",
    "        \"name\": \"monty\",\n",
    "        \"species\": \"snake\"\n",
    "      }\n",
    "    ]\n",
    "  }\n",
    "}"
   ]
  },
  {
   "cell_type": "code",
   "execution_count": 171,
   "id": "36862985",
   "metadata": {},
   "outputs": [
    {
     "data": {
      "text/plain": [
       "'jonnyt'"
      ]
     },
     "execution_count": 171,
     "metadata": {},
     "output_type": "execute_result"
    }
   ],
   "source": [
    "# 1. Get Jonathan's Twitter handle (i.e. the string `\"jonnyt\"`)\n",
    "\n",
    "users[\"Jonathan\"][\"twitter\"] "
   ]
  },
  {
   "cell_type": "code",
   "execution_count": 172,
   "id": "f8edb1ff",
   "metadata": {},
   "outputs": [
    {
     "data": {
      "text/plain": [
       "'Linlithgow'"
      ]
     },
     "execution_count": 172,
     "metadata": {},
     "output_type": "execute_result"
    }
   ],
   "source": [
    "# 2. Get Erik's hometown\n",
    "\n",
    "users[\"Erik\"][\"home_town\"] "
   ]
  },
  {
   "cell_type": "code",
   "execution_count": 173,
   "id": "82918f41",
   "metadata": {},
   "outputs": [
    {
     "data": {
      "text/plain": [
       "[18, 34, 8, 11, 24]"
      ]
     },
     "execution_count": 173,
     "metadata": {},
     "output_type": "execute_result"
    }
   ],
   "source": [
    "# 3. Get the array of Erik's lottery numbers\n",
    "\n",
    "users[\"Erik\"][\"lottery_numbers\"] "
   ]
  },
  {
   "cell_type": "code",
   "execution_count": 174,
   "id": "57706f20",
   "metadata": {},
   "outputs": [
    {
     "data": {
      "text/plain": [
       "'snake'"
      ]
     },
     "execution_count": 174,
     "metadata": {},
     "output_type": "execute_result"
    }
   ],
   "source": [
    "# 4. Get the species of Avril's pet Monty\n",
    "\n",
    "users[\"Avril\"][\"pets\"][0][\"species\"]"
   ]
  },
  {
   "cell_type": "code",
   "execution_count": 175,
   "id": "ce76f5c2",
   "metadata": {},
   "outputs": [
    {
     "data": {
      "text/plain": [
       "8"
      ]
     },
     "execution_count": 175,
     "metadata": {},
     "output_type": "execute_result"
    }
   ],
   "source": [
    "# 5. Get the smallest of Erik's lottery numbers\n",
    "\n",
    "users[\"Erik\"][\"lottery_numbers\"].sort()\n",
    "\n",
    "users[\"Erik\"][\"lottery_numbers\"][0]"
   ]
  },
  {
   "cell_type": "code",
   "execution_count": 176,
   "id": "fbac5e05",
   "metadata": {},
   "outputs": [
    {
     "data": {
      "text/plain": [
       "[12, 14, 38]"
      ]
     },
     "execution_count": 176,
     "metadata": {},
     "output_type": "execute_result"
    }
   ],
   "source": [
    "# 6. Return an array of Avril's lottery numbers that are even\n",
    "[i for i in users[\"Avril\"][\"lottery_numbers\"] if i % 2 == 0]"
   ]
  },
  {
   "cell_type": "code",
   "execution_count": 177,
   "id": "6cb83a25",
   "metadata": {},
   "outputs": [
    {
     "data": {
      "text/plain": [
       "[8, 11, 18, 24, 34, 7]"
      ]
     },
     "execution_count": 177,
     "metadata": {},
     "output_type": "execute_result"
    }
   ],
   "source": [
    "# 7. Erik is one lottery number short! Add the number `7` to be included in his lottery numbers\n",
    "\n",
    "users[\"Erik\"][\"lottery_numbers\"].append(7) \n",
    "\n",
    "users[\"Erik\"][\"lottery_numbers\"]"
   ]
  },
  {
   "cell_type": "code",
   "execution_count": 178,
   "id": "c51539d5",
   "metadata": {},
   "outputs": [
    {
     "data": {
      "text/plain": [
       "'Edinburgh'"
      ]
     },
     "execution_count": 178,
     "metadata": {},
     "output_type": "execute_result"
    }
   ],
   "source": [
    "# 8. Change Erik's hometown to Edinburgh\n",
    "\n",
    "users[\"Erik\"][\"home_town\"] = \"Edinburgh\"\n",
    "\n",
    "users[\"Erik\"][\"home_town\"]"
   ]
  },
  {
   "cell_type": "code",
   "execution_count": 179,
   "id": "a87f0277",
   "metadata": {},
   "outputs": [
    {
     "data": {
      "text/plain": [
       "[{'name': 'nemo', 'species': 'fish'},\n",
       " {'name': 'kevin', 'species': 'fish'},\n",
       " {'name': 'spike', 'species': 'dog'},\n",
       " {'name': 'rupert', 'species': 'parrot'},\n",
       " {'name': 'Fluffy', 'species': 'dog'}]"
      ]
     },
     "execution_count": 179,
     "metadata": {},
     "output_type": "execute_result"
    }
   ],
   "source": [
    "# 9. Add a pet dog to Erik called \"Fluffy\"\n",
    "\n",
    "users[\"Erik\"][\"pets\"].append({'name': 'Fluffy', 'species': 'dog'})\n",
    "\n",
    "users[\"Erik\"][\"pets\"]"
   ]
  },
  {
   "cell_type": "code",
   "execution_count": 180,
   "id": "a8251528",
   "metadata": {},
   "outputs": [
    {
     "data": {
      "text/plain": [
       "{'Jonathan': {'twitter': 'jonnyt',\n",
       "  'lottery_numbers': [6, 12, 49, 33, 45, 20],\n",
       "  'home_town': 'Stirling',\n",
       "  'pets': [{'name': 'fluffy', 'species': 'cat'},\n",
       "   {'name': 'fido', 'species': 'dog'},\n",
       "   {'name': 'spike', 'species': 'dog'}]},\n",
       " 'Erik': {'twitter': 'eriksf',\n",
       "  'lottery_numbers': [8, 11, 18, 24, 34, 7],\n",
       "  'home_town': 'Edinburgh',\n",
       "  'pets': [{'name': 'nemo', 'species': 'fish'},\n",
       "   {'name': 'kevin', 'species': 'fish'},\n",
       "   {'name': 'spike', 'species': 'dog'},\n",
       "   {'name': 'rupert', 'species': 'parrot'},\n",
       "   {'name': 'Fluffy', 'species': 'dog'}]},\n",
       " 'Avril': {'twitter': 'bridgpally',\n",
       "  'lottery_numbers': [12, 14, 33, 38, 9, 25],\n",
       "  'home_town': 'Dunbar',\n",
       "  'pets': [{'name': 'monty', 'species': 'snake'}]},\n",
       " 'username': ''}"
      ]
     },
     "execution_count": 180,
     "metadata": {},
     "output_type": "execute_result"
    }
   ],
   "source": [
    "# 10. Add another person to the users dictionary\n",
    "\n",
    "users.update({\"username\": \"\"})\n",
    "\n",
    "users"
   ]
  },
  {
   "cell_type": "code",
   "execution_count": null,
   "id": "078ba066",
   "metadata": {},
   "outputs": [],
   "source": []
  },
  {
   "cell_type": "code",
   "execution_count": null,
   "id": "3c10bf32",
   "metadata": {},
   "outputs": [],
   "source": []
  }
 ],
 "metadata": {
  "kernelspec": {
   "display_name": "Python 3 (ipykernel)",
   "language": "python",
   "name": "python3"
  },
  "language_info": {
   "codemirror_mode": {
    "name": "ipython",
    "version": 3
   },
   "file_extension": ".py",
   "mimetype": "text/x-python",
   "name": "python",
   "nbconvert_exporter": "python",
   "pygments_lexer": "ipython3",
   "version": "3.9.7"
  }
 },
 "nbformat": 4,
 "nbformat_minor": 5
}
